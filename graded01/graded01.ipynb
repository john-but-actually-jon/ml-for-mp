{
 "cells": [
  {
   "cell_type": "code",
   "execution_count": 17,
   "id": "c8a0743f",
   "metadata": {},
   "outputs": [],
   "source": [
    "import numpy as np\n",
    "from sklearn import datasets\n",
    "from sklearn.neural_network import MLPRegressor, MLPClassifier\n",
    "from sklearn.linear_model import LinearRegression, LogisticRegression\n",
    "from sklearn.preprocessing import StandardScaler\n",
    "from sklearn.model_selection import train_test_split\n",
    "# useful utility function (see https://scikit-learn.org/stable/modules/compose.html of more details)\n",
    "from sklearn.pipeline import Pipeline, make_pipeline\n",
    "# useful utility to optimize hyperparameters (see https://scikit-learn.org/stable/modules/grid_search.html#grid-search for more details)\n",
    "from sklearn.model_selection import GridSearchCV\n",
    "# dataset splitting utilities (see https://scikit-learn.org/stable/modules/cross_validation.html#cross-validation-iterators for more details)\n",
    "from sklearn.model_selection import ShuffleSplit, KFold\n",
    "# helper function to plot a ROC curve (see https://scikit-learn.org/stable/visualizations.html#visualizations for more details)\n",
    "from sklearn.metrics import plot_roc_curve\n",
    "from tqdm.notebook import tqdm\n",
    "import matplotlib.pyplot as plt\n",
    "import pandas as pd"
   ]
  },
  {
   "cell_type": "markdown",
   "id": "5a5cb061",
   "metadata": {},
   "source": [
    "# Predict housing prices"
   ]
  },
  {
   "cell_type": "code",
   "execution_count": null,
   "id": "0344f824",
   "metadata": {},
   "outputs": [],
   "source": [
    "# have a look at the dataset's features and target correlations\n",
    "housing = datasets.fetch_california_housing(return_X_y=False, as_frame=True)\n",
    "c = pd.plotting.scatter_matrix(pd.concat([housing.data, housing.target],axis=1), alpha=0.2, figsize=(17, 17), diagonal='hist')\n",
    "c;"
   ]
  },
  {
   "cell_type": "code",
   "execution_count": 19,
   "id": "6c46509d",
   "metadata": {},
   "outputs": [],
   "source": [
    "# load the dataset as a feature matrix and target vector\n",
    "housing_X, housing_y = datasets.fetch_california_housing(return_X_y=True)\n",
    "# list of features in column order\n",
    "xcol=['MedInc', 'HouseAge', 'AveRooms', 'AveBedrms', 'Population', 'AveOccup',\n",
    "       'Latitude', 'Longitude']\n"
   ]
  },
  {
   "cell_type": "markdown",
   "id": "7136cc1c",
   "metadata": {},
   "source": [
    "## Linear regression"
   ]
  },
  {
   "cell_type": "code",
   "execution_count": null,
   "id": "059b3080",
   "metadata": {},
   "outputs": [],
   "source": []
  },
  {
   "cell_type": "markdown",
   "id": "cb702ec5",
   "metadata": {},
   "source": [
    "## MLP Regression\n",
    "\n",
    "Using `Pipeline` and `GridSearchCV` is recommended."
   ]
  },
  {
   "cell_type": "code",
   "execution_count": 22,
   "id": "526272bc",
   "metadata": {},
   "outputs": [],
   "source": [
    "# Set of hyperparameters to search on using a grid search strategy and a cross validated score following the GridSearCV format\n",
    "param_grid = [\n",
    "    {\n",
    "        \"mlpregressor__hidden_layer_sizes\": [(5), (30), (10,10,10), (30,30)], \n",
    "        \"mlpregressor__activation\":['identity', 'tanh'],\n",
    "        \"mlpregressor__alpha\": [1e-4, 1e-2, 1],\n",
    "    }\n",
    "]\n",
    "\n",
    "# define a separate test set (keep the random_state fixed)\n",
    "X_train, X_test, y_train, y_test = train_test_split(housing_X, housing_y, test_size=0.1, random_state=43738)"
   ]
  },
  {
   "cell_type": "code",
   "execution_count": null,
   "id": "282747c2",
   "metadata": {},
   "outputs": [],
   "source": []
  },
  {
   "cell_type": "markdown",
   "id": "f5103735",
   "metadata": {},
   "source": [
    "# Predict Tumor state"
   ]
  },
  {
   "cell_type": "code",
   "execution_count": 15,
   "id": "7c40acd8",
   "metadata": {},
   "outputs": [],
   "source": [
    "# have a look at the dataset's features and target correlations\n",
    "cancer = datasets.load_breast_cancer(as_frame=True)\n",
    "c = pd.plotting.scatter_matrix(pd.concat([cancer.data,cancer.target],axis=1), alpha=0.2, figsize=(17, 17), diagonal='hist')\n",
    "c;"
   ]
  },
  {
   "cell_type": "code",
   "execution_count": 39,
   "id": "76a16dce",
   "metadata": {},
   "outputs": [],
   "source": [
    "# load the dataset as a feature matrix and target vector\n",
    "cancer_X, cancer_y = datasets.load_breast_cancer(return_X_y=True)\n",
    "# list of features in column order\n",
    "xcol = ['mean radius', 'mean texture', 'mean perimeter', 'mean area',\n",
    "       'mean smoothness', 'mean compactness', 'mean concavity',\n",
    "       'mean concave points', 'mean symmetry', 'mean fractal dimension',\n",
    "       'radius error', 'texture error', 'perimeter error', 'area error',\n",
    "       'smoothness error', 'compactness error', 'concavity error',\n",
    "       'concave points error', 'symmetry error', 'fractal dimension error',\n",
    "       'worst radius', 'worst texture', 'worst perimeter', 'worst area',\n",
    "       'worst smoothness', 'worst compactness', 'worst concavity',\n",
    "       'worst concave points', 'worst symmetry', 'worst fractal dimension']\n",
    "\n",
    "# define a separate test set (keep the random_state fixed)\n",
    "X_train, X_test, y_train, y_test = train_test_split(cancer_X, cancer_y, test_size=0.25, random_state=43738)\n",
    "\n",
    "hyperparameters = dict(hidden_layer_sizes=(5,),activation='tanh', \n",
    "                    max_iter=6000,solver='adam',warm_start='false')"
   ]
  },
  {
   "cell_type": "code",
   "execution_count": null,
   "id": "63c1225a",
   "metadata": {},
   "outputs": [],
   "source": []
  }
 ],
 "metadata": {
  "kernelspec": {
   "display_name": "Python 3.9.7 ('cg39')",
   "language": "python",
   "name": "python3"
  },
  "language_info": {
   "codemirror_mode": {
    "name": "ipython",
    "version": 3
   },
   "file_extension": ".py",
   "mimetype": "text/x-python",
   "name": "python",
   "nbconvert_exporter": "python",
   "pygments_lexer": "ipython3",
   "version": "3.9.7"
  },
  "vscode": {
   "interpreter": {
    "hash": "eb984370a0e9ac0d88effffa337c8bcc58db551854a7a4a14d9078e4a35ac073"
   }
  }
 },
 "nbformat": 4,
 "nbformat_minor": 5
}
