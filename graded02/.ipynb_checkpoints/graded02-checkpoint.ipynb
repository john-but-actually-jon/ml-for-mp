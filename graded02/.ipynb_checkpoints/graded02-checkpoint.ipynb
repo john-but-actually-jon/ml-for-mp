{
 "cells": [
  {
   "cell_type": "code",
   "execution_count": 135,
   "id": "c6f718a7",
   "metadata": {},
   "outputs": [],
   "source": [
    "%matplotlib inline\n",
    "import matplotlib.pyplot as plt\n",
    "\n",
    "import numpy as np\n",
    "import scipy as sc\n",
    "import numpy.linalg as npl\n",
    "from numpy.linalg import norm\n",
    "import scipy.linalg as scl\n",
    "from scipy.spatial.distance import pdist,squareform\n",
    "import ase\n",
    "from tqdm.notebook import tqdm\n",
    "import pickle as pck\n",
    "from sklearn.preprocessing import StandardScaler\n",
    "from sklearn.decomposition import PCA\n",
    "from deeptime.decomposition import TICA\n",
    "import seaborn as sns\n",
    "import pprint\n",
    "\n",
    "# to instal nglview | you will have to restart any jupyter instance running\n",
    "# for the changes to apply\n",
    "# conda install nglview -c conda-forge\n",
    "# conda upgrade nglview --force\n",
    "from nglview import show_asetraj,show_ase\n",
    "import numpy as np\n",
    "import ase\n",
    "from ase import Atoms\n",
    "from ase.visualize import view\n",
    "from ipywidgets import interactive,FloatSlider,interact\n",
    "import matplotlib.pyplot as plt\n",
    "# conda install chemiscope\n",
    "import chemiscope"
   ]
  },
  {
   "cell_type": "code",
   "execution_count": 2,
   "id": "58c8b3f8",
   "metadata": {},
   "outputs": [],
   "source": [
    "# load the reference trajectories\n",
    "with open('./trajectories.pck', 'rb') as f:\n",
    "    pos = pck.load(f)"
   ]
  },
  {
   "cell_type": "code",
   "execution_count": 3,
   "id": "0674d62b",
   "metadata": {},
   "outputs": [
    {
     "data": {
      "text/plain": [
       "dict_keys([0.5, 1.0, 1.5, 1.6, 1.7, 1.8, 2, 2.1, 2.2, 2.3, 2.4, 2.6, 2.7, 3.5, 4])"
      ]
     },
     "execution_count": 3,
     "metadata": {},
     "output_type": "execute_result"
    }
   ],
   "source": [
    "pos.keys()"
   ]
  },
  {
   "cell_type": "markdown",
   "id": "cc65ab80",
   "metadata": {},
   "source": [
    "# Analyse individual trajectories"
   ]
  },
  {
   "cell_type": "markdown",
   "id": "91024321",
   "metadata": {},
   "source": [
    "# utility functions"
   ]
  },
  {
   "cell_type": "code",
   "execution_count": 4,
   "id": "33df05ec",
   "metadata": {
    "code_folding": [
     1,
     31
    ]
   },
   "outputs": [],
   "source": [
    "# show a polymer trajectory\n",
    "def display_trajectory(pos, stride):\n",
    "    Natom,_ = pos[0].shape\n",
    "    num = [1]*Natom\n",
    "    xsize,ysize = 600,300\n",
    "    frames = [Atoms(numbers=num,positions=pp,pbc=False) for pp in pos[::stride]]\n",
    "    view = show_asetraj(frames, gui=False)\n",
    "    view.clear_representations()\n",
    "    view.representations = [\n",
    "    {\"type\": \"ball+stick\", \"params\": {\n",
    "        \"aspectRatio\": 4,'color': \"atomindex\",\n",
    "    }},\n",
    "    {\"type\": \"distance\", \"params\": {\n",
    "        \"atomPair\": [[it,it+1] for it in range(Natom-1)],\n",
    "        'colorScheme': \"black\",\n",
    "    'labelSize': 4,\n",
    "    'labelColor': \"white\",\n",
    "    'labelVisible': False,\n",
    "    'labelUnit': \"angstrom\",\n",
    "    'radiusScale': 1,\n",
    "    'opacity': 1,\n",
    "    'name': \"link\",\n",
    "    'side': \"front\",\n",
    "    'useCylinder': True\n",
    "    }}\n",
    "    ]\n",
    "    view._remote_call('setSize', target='Widget',\n",
    "                               args=['%dpx' % (xsize,), '%dpx' % (ysize,)])\n",
    "    return view\n",
    "\n",
    "# show a polymer trajectory along with associated properties\n",
    "def display_trajectory_and_property(pos, properties):\n",
    "    \"\"\"\n",
    "    properties: dictionary of properties associated with each structures, e.g.\n",
    "        ```\n",
    "        properties = {\n",
    "            \"id\": np.arange(TIC.shape[0]),\n",
    "            \"TIC1\": TIC[:,0]\n",
    "        }\n",
    "        ```\n",
    "        where `TIC` is an array containing the TICA projection of shape [n_structure, n_tica]\n",
    "\n",
    "    \"\"\"\n",
    "    frames = [Atoms(positions=pp, numbers=6*np.ones(100)) for pp in pos]\n",
    "    widget = chemiscope.show(frames, properties)\n",
    "    # display the dataset in a chemiscope visualizer inside the notebook\n",
    "    return widget"
   ]
  },
  {
   "cell_type": "code",
   "execution_count": 96,
   "id": "cf3baa77",
   "metadata": {
    "code_folding": []
   },
   "outputs": [],
   "source": [
    "def compute_distances(pos):\n",
    "    \"\"\"Compute all distances between the atoms in each structures using scipy's `pdist` function.\n",
    "    \n",
    "    pos: [n_structures, n_atoms, 3]\n",
    "    return: [n_structures, n_distances]\n",
    "    \"\"\"\n",
    "    n_structures = pos.shape[0]\n",
    "    n_atoms = pos.shape[1]\n",
    "    distances_over_trajectory = np.empty((n_structures, int((n_atoms-1)*n_atoms/2)))\n",
    "    for i in range(n_structures):\n",
    "        distances_over_trajectory[i, :] = pdist(pos[i,:,:])\n",
    "    return distances_over_trajectory\n",
    "        \n",
    "def compute_gyration_radius(pos):\n",
    "    \"\"\"Compute the gyration radius associated with each structures.\n",
    "    \n",
    "    pos: [n_structures, n_atoms, 3]\n",
    "    return: [n_structures, ]\n",
    "    \"\"\"\n",
    "    n_structures, n_atoms = pos.shape[0], pos.shape[1]\n",
    "    prefactor = 1/(n_atoms+1)**2\n",
    "    \n",
    "    gyration_radii = prefactor*np.sum(compute_distances(pos)**2, axis=1)\n",
    "    return gyration_radii"
   ]
  },
  {
   "cell_type": "markdown",
   "id": "5d416966",
   "metadata": {},
   "source": [
    "## visualize the trajectories"
   ]
  },
  {
   "cell_type": "code",
   "execution_count": 79,
   "id": "adbe5fdb",
   "metadata": {},
   "outputs": [
    {
     "data": {
      "application/vnd.jupyter.widget-view+json": {
       "model_id": "57f63a4c755b4f91a8bfaddec037848b",
       "version_major": 2,
       "version_minor": 0
      },
      "text/plain": [
       "NGLWidget(max_frame=999)"
      ]
     },
     "metadata": {},
     "output_type": "display_data"
    }
   ],
   "source": [
    "# show the trajectory at T=2.3\n",
    "display_trajectory(pos[2.3],10)"
   ]
  },
  {
   "cell_type": "markdown",
   "id": "3050876f",
   "metadata": {},
   "source": [
    "## 1.1.1 Radius of Gyration"
   ]
  },
  {
   "cell_type": "markdown",
   "id": "eefb3ffb",
   "metadata": {},
   "source": [
    "## 1.1.2 Trajectory Analysis"
   ]
  },
  {
   "cell_type": "code",
   "execution_count": 108,
   "id": "78037baa",
   "metadata": {},
   "outputs": [
    {
     "data": {
      "application/vnd.jupyter.widget-view+json": {
       "model_id": "115557bad3dc4577b87881f6acb149b5",
       "version_major": 2,
       "version_minor": 0
      },
      "text/plain": [
       "NGLWidget(max_frame=999)"
      ]
     },
     "metadata": {},
     "output_type": "display_data"
    }
   ],
   "source": [
    "display_trajectory(traj1 := pos[0.5], 10)"
   ]
  },
  {
   "cell_type": "markdown",
   "id": "89ff569e",
   "metadata": {},
   "source": [
    "For the first trajectory, with the lowest normalised temperature ($T=0.5$), we see a globular state. Thermal fluctations do not have a significant effect on the shape of the molecule."
   ]
  },
  {
   "cell_type": "code",
   "execution_count": 109,
   "id": "4f180386",
   "metadata": {},
   "outputs": [
    {
     "data": {
      "application/vnd.jupyter.widget-view+json": {
       "model_id": "9f0acfff99224c24a6039f8079b7bfff",
       "version_major": 2,
       "version_minor": 0
      },
      "text/plain": [
       "NGLWidget(max_frame=999)"
      ]
     },
     "metadata": {},
     "output_type": "display_data"
    }
   ],
   "source": [
    "display_trajectory(traj2 := pos[2.3], 10)"
   ]
  },
  {
   "cell_type": "markdown",
   "id": "84e2fd4a",
   "metadata": {},
   "source": [
    "For $T=2.3$, we observe a \"looser\" structure than for the $T=0.5$ case. The state is still globular but with larger inter-atomic spacing to begin with. Over time, the molecule oscillates between the globular and elongated states, due to temperature fluctuations."
   ]
  },
  {
   "cell_type": "code",
   "execution_count": 110,
   "id": "6e45fa0e",
   "metadata": {},
   "outputs": [
    {
     "data": {
      "application/vnd.jupyter.widget-view+json": {
       "model_id": "b948a29bb35746b8af67b9bb30b9dfb6",
       "version_major": 2,
       "version_minor": 0
      },
      "text/plain": [
       "NGLWidget(max_frame=999)"
      ]
     },
     "metadata": {},
     "output_type": "display_data"
    }
   ],
   "source": [
    "display_trajectory(traj3 := pos[4.0], 10)"
   ]
  },
  {
   "cell_type": "markdown",
   "id": "eda83b02",
   "metadata": {},
   "source": [
    "For the $T=4.0$ case, the molecule is in a persistent elongated state. Temperature fluctuations lead to folding of the molecule that unravels over time."
   ]
  },
  {
   "cell_type": "markdown",
   "id": "211bf150",
   "metadata": {},
   "source": [
    "## Compare the gyration radius and TIC coordinate"
   ]
  },
  {
   "cell_type": "code",
   "execution_count": 121,
   "id": "ef72820f",
   "metadata": {},
   "outputs": [
    {
     "name": "stdout",
     "output_type": "stream",
     "text": [
      "Name: deeptime\n",
      "Version: 0.4.3\n",
      "Summary: Python library for analysis of time series data including dimensionality reduction, clustering, and Markov model estimation.\n",
      "Home-page: https://github.com/deeptime-ml/deeptime\n",
      "Author: Martin Scherer, Tim Hempel, Andreas Mardt, Maaike Galama, Brian de Silva, Brooke Husic, Stefan Klus, Hao Wu, Nathan Kutz, Steven Brunton, Frank Noé\n",
      "Author-email: Moritz Hoffmann <moritz.hoffmann@fu-berlin.de>\n",
      "License: \n",
      "Location: e:\\ml-for-mp\\env\\lib\\site-packages\n",
      "Requires: numpy, scikit-learn, scipy, threadpoolctl\n",
      "Required-by: \n"
     ]
    }
   ],
   "source": [
    "!pip show deeptime"
   ]
  },
  {
   "cell_type": "code",
   "execution_count": 144,
   "id": "54d586e3",
   "metadata": {},
   "outputs": [
    {
     "data": {
      "text/plain": [
       "{'instantaneous_coefficients': array([[0.7950151]]),\n",
       " 'singular_values': array([0.80825697]),\n",
       " 'timelagged_coefficients': array([[0.7950151]]),\n",
       " 'cov': <deeptime.covariance._covariance.CovarianceModel at 0x205cd07d6c0>,\n",
       " 'rank_0': None,\n",
       " 'rank_t': None,\n",
       " 'dim': None,\n",
       " 'var_cutoff': None,\n",
       " 'scaling': 'kinetic_map',\n",
       " 'epsilon': 1e-06,\n",
       " 'instantaneous_obs': <deeptime.basis._base.Concatenation at 0x205cd07d5d0>,\n",
       " 'timelagged_obs': <deeptime.basis._base.Concatenation at 0x205cd07da80>}"
      ]
     },
     "execution_count": 144,
     "metadata": {},
     "output_type": "execute_result"
    }
   ],
   "source": [
    "tic1_projections\n",
    "distances = compute_distances(np.array(traj1))\n",
    "\n",
    "model = TICA(lagtime=1)\n",
    "\n",
    "n_structures = distances.shape[0]\n",
    "# for i in range(n_structures):\n",
    "#     model.fit(distances[i])\n",
    "model.fit(distances.flatten())\n",
    "final_model = model.fetch_model()# model.fit_from_timeseries(distances)\n",
    "final_model.get_params()\n"
   ]
  },
  {
   "cell_type": "markdown",
   "id": "73060d06",
   "metadata": {},
   "source": [
    "# Estimate the transition temperature"
   ]
  },
  {
   "cell_type": "markdown",
   "id": "c84ba1cf",
   "metadata": {},
   "source": [
    "## using the average radius of gyration"
   ]
  },
  {
   "cell_type": "code",
   "execution_count": null,
   "id": "d88d029f",
   "metadata": {},
   "outputs": [],
   "source": []
  },
  {
   "cell_type": "markdown",
   "id": "78e60b82",
   "metadata": {},
   "source": [
    "## Using PCA"
   ]
  },
  {
   "cell_type": "code",
   "execution_count": null,
   "id": "2e6aea21",
   "metadata": {},
   "outputs": [],
   "source": []
  }
 ],
 "metadata": {
  "kernelspec": {
   "display_name": "Python 3 (ipykernel)",
   "language": "python",
   "name": "python3"
  },
  "language_info": {
   "codemirror_mode": {
    "name": "ipython",
    "version": 3
   },
   "file_extension": ".py",
   "mimetype": "text/x-python",
   "name": "python",
   "nbconvert_exporter": "python",
   "pygments_lexer": "ipython3",
   "version": "3.10.0"
  },
  "toc": {
   "colors": {
    "hover_highlight": "#DAA520",
    "navigate_num": "#000000",
    "navigate_text": "#333333",
    "running_highlight": "#FF0000",
    "selected_highlight": "#FFD700",
    "sidebar_border": "#EEEEEE",
    "wrapper_background": "#FFFFFF"
   },
   "moveMenuLeft": true,
   "nav_menu": {
    "height": "141.633px",
    "width": "251.667px"
   },
   "navigate_menu": true,
   "number_sections": true,
   "sideBar": true,
   "threshold": 4,
   "toc_cell": false,
   "toc_section_display": "block",
   "toc_window_display": false,
   "widenNotebook": false
  },
  "vscode": {
   "interpreter": {
    "hash": "09a17ca656af7c5e285b689f1265519b0379ea88ed7d3578b5e2fa3e32b3acd5"
   }
  }
 },
 "nbformat": 4,
 "nbformat_minor": 5
}
